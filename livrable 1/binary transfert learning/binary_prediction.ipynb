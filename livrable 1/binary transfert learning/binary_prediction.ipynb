{
 "cells": [
  {
   "cell_type": "markdown",
   "metadata": {},
   "source": [
    "# 1. Import des bibliothèques"
   ]
  },
  {
   "cell_type": "code",
   "execution_count": 13,
   "metadata": {},
   "outputs": [],
   "source": [
    "import tensorflow as tf\n",
    "from tensorflow.keras.models import load_model\n",
    "from tensorflow.keras.preprocessing.image import ImageDataGenerator, load_img, img_to_array\n",
    "import numpy as np\n",
    "import os\n",
    "from sklearn.metrics import confusion_matrix\n",
    "import seaborn as sns\n",
    "import matplotlib.pyplot as plt"
   ]
  },
  {
   "cell_type": "markdown",
   "metadata": {},
   "source": [
    "# 2. Chargement du modèle"
   ]
  },
  {
   "cell_type": "code",
   "execution_count": 2,
   "metadata": {},
   "outputs": [
    {
     "name": "stderr",
     "output_type": "stream",
     "text": [
      "WARNING: All log messages before absl::InitializeLog() is called are written to STDERR\n",
      "W0000 00:00:1759807508.032996     944 gpu_device.cc:2342] Cannot dlopen some GPU libraries. Please make sure the missing libraries mentioned above are installed properly if you would like to use GPU. Follow the guide at https://www.tensorflow.org/install/gpu for how to download and setup the required libraries for your platform.\n",
      "Skipping registering GPU devices...\n",
      "WARNING:absl:Compiled the loaded model, but the compiled metrics have yet to be built. `model.compile_metrics` will be empty until you train or evaluate the model.\n"
     ]
    }
   ],
   "source": [
    "MODEL_PATH = r'photo_classifier_model.h5'\n",
    "model = load_model(MODEL_PATH)"
   ]
  },
  {
   "cell_type": "markdown",
   "metadata": {},
   "source": [
    "# 3. Évaluation du modèle sur l'ensemble de validation"
   ]
  },
  {
   "cell_type": "code",
   "execution_count": 3,
   "metadata": {},
   "outputs": [
    {
     "name": "stdout",
     "output_type": "stream",
     "text": [
      "Found 1334 images belonging to 2 classes.\n"
     ]
    },
    {
     "name": "stderr",
     "output_type": "stream",
     "text": [
      "/usr/local/lib/python3.11/dist-packages/keras/src/trainers/data_adapters/py_dataset_adapter.py:121: UserWarning: Your `PyDataset` class should call `super().__init__(**kwargs)` in its constructor. `**kwargs` can include `workers`, `use_multiprocessing`, `max_queue_size`. Do not pass these arguments to `fit()`, as they will be ignored.\n",
      "  self._warn_if_super_not_called()\n"
     ]
    },
    {
     "name": "stdout",
     "output_type": "stream",
     "text": [
      "\u001b[1m42/42\u001b[0m \u001b[32m━━━━━━━━━━━━━━━━━━━━\u001b[0m\u001b[37m\u001b[0m \u001b[1m41s\u001b[0m 907ms/step - accuracy: 0.9940 - loss: 0.0223\n",
      "Perte sur les données de validation : 0.0223\n",
      "Précision sur les données de validation : 0.9940\n"
     ]
    }
   ],
   "source": [
    "BASE_DIR = r'training_data'\n",
    "VALIDATION_DIR = os.path.join(BASE_DIR) # Le générateur utilisera le subset de validation\n",
    "IMG_SIZE = (224, 224)\n",
    "BATCH_SIZE = 32\n",
    "\n",
    "datagen = ImageDataGenerator(rescale=1./255, validation_split=0.2)\n",
    "\n",
    "validation_generator = datagen.flow_from_directory(\n",
    "    VALIDATION_DIR,\n",
    "    target_size=IMG_SIZE,\n",
    "    batch_size=BATCH_SIZE,\n",
    "    class_mode='binary',\n",
    "    subset='validation'\n",
    ")\n",
    "\n",
    "loss, accuracy = model.evaluate(validation_generator)\n",
    "print(f'Perte sur les données de validation : {loss:.4f}')\n",
    "print(f'Précision sur les données de validation : {accuracy:.4f}')"
   ]
  },
  {
   "cell_type": "markdown",
   "metadata": {},
   "source": [
    "# 4. Prédiction sur une nouvelle image"
   ]
  },
  {
   "cell_type": "code",
   "execution_count": 8,
   "metadata": {},
   "outputs": [
    {
     "name": "stdout",
     "output_type": "stream",
     "text": [
      "\u001b[1m1/1\u001b[0m \u001b[32m━━━━━━━━━━━━━━━━━━━━\u001b[0m\u001b[37m\u001b[0m \u001b[1m0s\u001b[0m 86ms/step\n",
      "Prédiction : Photo (Confiance: 0.74)\n"
     ]
    }
   ],
   "source": [
    "image_path=r'test_2.jpg'\n",
    "def predict_image(image_path):\n",
    "    # Charger et redimensionner l'image\n",
    "    img = load_img(image_path, target_size=IMG_SIZE)\n",
    "    # Convertir l'image en tableau numpy\n",
    "    img_array = img_to_array(img)\n",
    "    # Mettre à l'échelle les valeurs des pixels\n",
    "    img_array = img_array / 255.0\n",
    "    # Ajouter une dimension pour le lot (batch)\n",
    "    img_array = np.expand_dims(img_array, axis=0)\n",
    "\n",
    "    # Faire la prédiction\n",
    "    prediction = model.predict(img_array)[0][0]\n",
    "\n",
    "    # Interpréter le résultat (seuil à 0.5)\n",
    "    # flow_from_directory assigne les classes par ordre alphabétique : non_photo=0, photo=1\n",
    "    if prediction > 0.5:\n",
    "        print(f'Prédiction : Photo (Confiance: {prediction:.2f})')\n",
    "    else:\n",
    "        print(f'Prédiction : Non-Photo (Confiance: {1-prediction:.2f})')\n",
    "\n",
    "# Exemple d'utilisation :\n",
    "# Remplacez 'chemin/vers/votre/image.jpg' par le chemin d'une image à tester\n",
    "predict_image(image_path)"
   ]
  },
  {
   "cell_type": "markdown",
   "id": "edac9ff4",
   "metadata": {},
   "source": [
    "# Matrix de confusion"
   ]
  },
  {
   "cell_type": "code",
   "execution_count": 15,
   "id": "4eb0c382",
   "metadata": {},
   "outputs": [
    {
     "name": "stderr",
     "output_type": "stream",
     "text": [
      "WARNING:absl:Compiled the loaded model, but the compiled metrics have yet to be built. `model.compile_metrics` will be empty until you train or evaluate the model.\n"
     ]
    }
   ],
   "source": [
    "MODEL_PATH = '/tf/code/notebooks/phase_1/photo_classifier_model.h5'\n",
    "model= load_model(MODEL_PATH)"
   ]
  },
  {
   "cell_type": "code",
   "execution_count": 18,
   "id": "dafc9839",
   "metadata": {},
   "outputs": [
    {
     "name": "stdout",
     "output_type": "stream",
     "text": [
      "Found 1334 images belonging to 2 classes.\n"
     ]
    }
   ],
   "source": [
    "BASE_DIR = '/tf/code/notebooks/phase_1'\n",
    "VALIDATION_DIR = os.path.join(BASE_DIR, 'training_data')\n",
    "IMG_SIZE = (224, 224)\n",
    "BATCH_SIZE = 32\n",
    " \n",
    "datagen = ImageDataGenerator(\n",
    "    rescale=1./255,\n",
    "    rotation_range=30,           # Augmenter la rotation\n",
    "    width_shift_range=0.15,      # Augmenter les décalages horizontaux\n",
    "    height_shift_range=0.15,     # Augmenter les décalages verticaux\n",
    "    shear_range=0.2,\n",
    "    zoom_range=0.2,\n",
    "    horizontal_flip=True,\n",
    "    brightness_range=[0.7, 1.3], # Ajouter une variation de luminosité\n",
    "    validation_split=0.2\n",
    ")\n",
    "\n",
    "validation_generator = datagen.flow_from_directory(\n",
    "    VALIDATION_DIR,\n",
    "    target_size=IMG_SIZE,\n",
    "    batch_size=BATCH_SIZE,\n",
    "    class_mode='binary',\n",
    "    subset='validation',\n",
    "    shuffle=False\n",
    ")"
   ]
  },
  {
   "cell_type": "code",
   "execution_count": 20,
   "id": "61621f88",
   "metadata": {},
   "outputs": [
    {
     "name": "stdout",
     "output_type": "stream",
     "text": [
      "\u001b[1m42/42\u001b[0m \u001b[32m━━━━━━━━━━━━━━━━━━━━\u001b[0m\u001b[37m\u001b[0m \u001b[1m50s\u001b[0m 1s/step\n"
     ]
    },
    {
     "data": {
      "image/png": "[encoded data removed]",
      "text/plain": [
       "<Figure size 1000x800 with 2 Axes>"
      ]
     },
     "metadata": {},
     "output_type": "display_data"
    }
   ],
   "source": [
    " \n",
    " \n",
    "\n",
    "# Prédictions pour la matrice de confusion\n",
    "validation_steps = validation_generator.samples // BATCH_SIZE + 1\n",
    "predictions = model.predict(validation_generator, steps=validation_steps)\n",
    "\n",
    "# Code original corrigé (seuil à 0.5)\n",
    "# predicted_classes = (predictions > 0.5).astype(int).flatten()\n",
    "\n",
    "# Nouveau code avec seuil ajusté (exemple à 0.45)\n",
    "seuil_optimal = 0.4 # Testez 0.40 ou 0.45\n",
    "predicted_classes = (predictions > seuil_optimal).astype(int).flatten()\n",
    "\n",
    "# Vraies étiquettes\n",
    "true_classes = validation_generator.classes\n",
    "class_labels = list(validation_generator.class_indices.keys())\n",
    "\n",
    "# Matrice de confusion\n",
    "cm = confusion_matrix(true_classes, predicted_classes)\n",
    "\n",
    "plt.figure(figsize=(10, 8))\n",
    "sns.heatmap(cm, annot=True, fmt='d', cmap='Blues', xticklabels=class_labels, yticklabels=class_labels)\n",
    "plt.title('Matrice de Confusion')\n",
    "plt.ylabel('Vraie étiquette')\n",
    "plt.xlabel('Étiquette prédite')\n",
    "plt.show()"
   ]
  }
 ],
 "metadata": {
  "kernelspec": {
   "display_name": "Python 3",
   "language": "python",
   "name": "python3"
  },
  "language_info": {
   "codemirror_mode": {
    "name": "ipython",
    "version": 3
   },
   "file_extension": ".py",
   "mimetype": "text/x-python",
   "name": "python",
   "nbconvert_exporter": "python",
   "pygments_lexer": "ipython3",
   "version": "3.11.13"
  }
 },
 "nbformat": 4,
 "nbformat_minor": 5
}
